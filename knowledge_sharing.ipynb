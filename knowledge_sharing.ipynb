{
 "cells": [
  {
   "cell_type": "code",
   "execution_count": 1,
   "metadata": {},
   "outputs": [],
   "source": [
    "import os, yaml\n",
    "from openai import OpenAI"
   ]
  },
  {
   "cell_type": "code",
   "execution_count": 2,
   "metadata": {},
   "outputs": [],
   "source": [
    "#setting the credentials required for OPEN AI/ TOGETHER\n",
    "with open(\"credential.yaml\", 'r') as file:\n",
    "    credentials= yaml.load(file, Loader=yaml.FullLoader)\n",
    "\n",
    "os.environ['OPENAI_API_KEY']= credentials['OPENAI_API_KEY']"
   ]
  },
  {
   "cell_type": "code",
   "execution_count": 3,
   "metadata": {},
   "outputs": [],
   "source": [
    "#Building client \n",
    "client= OpenAI() "
   ]
  },
  {
   "cell_type": "code",
   "execution_count": 4,
   "metadata": {},
   "outputs": [],
   "source": [
    "# Generating responses based on the user messages\n",
    "def complete_response(prompt):\n",
    "    response= client.chat.completions.create(        \n",
    "        model='gpt-3.5-turbo',\n",
    "        messages= [{\"role\": \"system\",\"content\" : \"You are a helpful assistant to generate responses on the given prompt.\"},\n",
    "                   {\"role\": \"user\", \"content\": prompt}\n",
    "                   ],\n",
    "        temperature=0.5,\n",
    "        max_tokens=500\n",
    "    )\n",
    "    return str(response.choices[0].message.content)   "
   ]
  },
  {
   "cell_type": "markdown",
   "metadata": {},
   "source": [
    "# Knowledge Sharing and Prompting"
   ]
  },
  {
   "cell_type": "code",
   "execution_count": 9,
   "metadata": {},
   "outputs": [],
   "source": [
    "context= \"Oxford University offers a diverse array of courses to cater to the academic interests and aspirations of its students. These encompass disciplines ranging from the exploration of humanity's past and present to the intricacies of scientific inquiry and technological innovation. Students can delve into the depths of human history and societal structures through programs such as Archaeology and Anthropology, Classical Archaeology and Ancient History, or delve into the complexities of languages and cultures with courses like Asian and Middle Eastern Studies, Classics and Modern Languages, or European and Middle Eastern Languages. For those inclined towards the sciences, options include Biochemistry (Molecular and Cellular), Biology, Chemistry, and Physics. Additionally, there are interdisciplinary courses such as Computer Science and Philosophy, Mathematics and Philosophy, or Philosophy, Politics and Economics (PPE) that offer a blend of different fields of study. Oxford also provides avenues for creative expression and artistic exploration with courses like Fine Art and Music. Moreover, professional pathways are available through programs such as Medicine, Law (Jurisprudence), and Economics and Management. Whether one's passion lies in unraveling the mysteries of the universe, understanding the intricacies of human behavior, or shaping the future through technological innovation, Oxford University provides a rich tapestry of academic opportunities to nurture and challenge its students on their intellectual journey.\""
   ]
  },
  {
   "cell_type": "markdown",
   "metadata": {},
   "source": [
    "- file reading\n",
    "- web scraping\n",
    "- resouce bank"
   ]
  },
  {
   "cell_type": "code",
   "execution_count": 15,
   "metadata": {},
   "outputs": [],
   "source": [
    "prompt =f'''\n",
    "First understand the context below {context}\n",
    "based on the above context.\n",
    "Question : What are the courses offered by oxford university for professional pathways. Give in point format'''"
   ]
  },
  {
   "cell_type": "code",
   "execution_count": 16,
   "metadata": {},
   "outputs": [
    {
     "name": "stdout",
     "output_type": "stream",
     "text": [
      "- Medicine\n",
      "- Law (Jurisprudence)\n",
      "- Economics and Management\n"
     ]
    }
   ],
   "source": [
    "print(complete_response(prompt))"
   ]
  }
 ],
 "metadata": {
  "kernelspec": {
   "display_name": "llm",
   "language": "python",
   "name": "python3"
  },
  "language_info": {
   "codemirror_mode": {
    "name": "ipython",
    "version": 3
   },
   "file_extension": ".py",
   "mimetype": "text/x-python",
   "name": "python",
   "nbconvert_exporter": "python",
   "pygments_lexer": "ipython3",
   "version": "3.11.5"
  }
 },
 "nbformat": 4,
 "nbformat_minor": 2
}
