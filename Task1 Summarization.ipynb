{
 "cells": [
  {
   "cell_type": "code",
   "execution_count": 1,
   "metadata": {},
   "outputs": [],
   "source": [
    "import os, yaml\n",
    "from openai import OpenAI"
   ]
  },
  {
   "cell_type": "code",
   "execution_count": 2,
   "metadata": {},
   "outputs": [],
   "source": [
    "#setting the credentials required for OPEN AI/ TOGETHER\n",
    "with open(\"credential.yaml\", 'r') as file:\n",
    "    credentials= yaml.load(file, Loader=yaml.FullLoader)\n",
    "\n",
    "os.environ['OPENAI_API_KEY']= credentials['OPENAI_API_KEY']"
   ]
  },
  {
   "cell_type": "code",
   "execution_count": 3,
   "metadata": {},
   "outputs": [],
   "source": [
    "#Building client \n",
    "client= OpenAI() "
   ]
  },
  {
   "cell_type": "code",
   "execution_count": 4,
   "metadata": {},
   "outputs": [],
   "source": [
    "# Generating responses based on the user messages\n",
    "def complete_response(prompt):\n",
    "    response= client.chat.completions.create(        \n",
    "        model='gpt-3.5-turbo',\n",
    "        messages= [{\"role\": \"system\",\"content\" : \"You are a helpful assistant to generate responses on the given prompt.\"},\n",
    "                   {\"role\": \"user\", \"content\": prompt}\n",
    "                   ],\n",
    "        temperature=0.5,\n",
    "        max_tokens=500\n",
    "    )\n",
    "    return str(response.choices[0].message.content)   "
   ]
  },
  {
   "cell_type": "markdown",
   "metadata": {},
   "source": [
    "# summarization "
   ]
  },
  {
   "cell_type": "code",
   "execution_count": 5,
   "metadata": {},
   "outputs": [],
   "source": [
    "productReview ='''I recently acquired the latest model of the XYZ computer, and I must say, it has exceeded all my expectations. From its sleek design to its lightning-fast performance, this computer has truly revolutionized my computing experience. One of the standout features of this device is its impressive processing power, which allows me to effortlessly multitask without any lag or slowdown. Whether I'm browsing the web, streaming videos, or running resource-intensive applications, the XYZ computer handles everything with ease.\n",
    "Furthermore, the display quality is absolutely stunning, with vibrant colors and sharp clarity that brings all my content to life. Whether I'm editing photos or watching movies, the visuals are always crisp and immersive. Additionally, the XYZ computer boasts a spacious storage capacity, ensuring that I never have to worry about running out of space for my files and media.\n",
    "Usability-wise, this computer is a dream to use. The user interface is intuitive and user-friendly, making it easy for even technologically-challenged individuals to navigate. The keyboard is comfortable to type on, with responsive keys that provide a satisfying typing experience. Moreover, the trackpad is smooth and precise, allowing for seamless navigation without the need for an external mouse.\n",
    "In terms of connectivity, the XYZ computer has all the ports I need to stay connected and productive. Whether I'm connecting external devices or transferring files, the plethora of ports available ensures that I can easily connect to any peripherals I may need.\n",
    "Overall, I am thoroughly impressed with the XYZ computer. Its powerful performance, stunning display, and user-friendly design make it an absolute joy to use. Whether you're a casual user or a power user, this computer is sure to meet and exceed all your computing needs'''"
   ]
  },
  {
   "cell_type": "code",
   "execution_count": 6,
   "metadata": {},
   "outputs": [
    {
     "name": "stdout",
     "output_type": "stream",
     "text": [
      "1831\n"
     ]
    }
   ],
   "source": [
    "print(len(productReview))"
   ]
  },
  {
   "cell_type": "code",
   "execution_count": 19,
   "metadata": {},
   "outputs": [],
   "source": [
    "#aspect based Summarization\n",
    "prompt =f''' Your task is to summarize the given context. You are given with a review related to a product.\n",
    "summarize the review below into 2 sentences manily focusing on the features of the product {productReview}'''"
   ]
  },
  {
   "cell_type": "code",
   "execution_count": 15,
   "metadata": {},
   "outputs": [],
   "source": [
    "#abstractive summarization\n",
    "prompt =f''' Your task is to summarize the given context. You are given with a review related to a product\n",
    "summarize the review below into 2 sentences. {productReview}\n",
    "'''"
   ]
  },
  {
   "cell_type": "code",
   "execution_count": 22,
   "metadata": {},
   "outputs": [],
   "source": [
    "#extractive summarization\n",
    "prompt =f''' Your task is to extractive summarize the given context. You are given with a review related to a product.\n",
    "\n",
    "summarize the review below into 2 sentences based on the usability. {productReview}  \n",
    "Try to highlight the wordings of the review as it is.'''\n"
   ]
  },
  {
   "cell_type": "code",
   "execution_count": 23,
   "metadata": {},
   "outputs": [],
   "source": [
    "output= complete_response(prompt)"
   ]
  },
  {
   "cell_type": "code",
   "execution_count": 24,
   "metadata": {},
   "outputs": [
    {
     "name": "stdout",
     "output_type": "stream",
     "text": [
      "(\"The XYZ computer's impressive processing power allows for effortless \"\n",
      " 'multitasking without any lag, making it a dream to use. The intuitive user '\n",
      " 'interface, comfortable keyboard, and smooth trackpad enhance usability, '\n",
      " 'while the plethora of ports ensure easy connectivity for all peripherals.')\n"
     ]
    }
   ],
   "source": [
    "import pprint\n",
    "pprint.pprint(output)"
   ]
  },
  {
   "cell_type": "code",
   "execution_count": 25,
   "metadata": {},
   "outputs": [
    {
     "name": "stdout",
     "output_type": "stream",
     "text": [
      "289\n"
     ]
    }
   ],
   "source": [
    "print(len(output))"
   ]
  }
 ],
 "metadata": {
  "kernelspec": {
   "display_name": "llm",
   "language": "python",
   "name": "python3"
  },
  "language_info": {
   "codemirror_mode": {
    "name": "ipython",
    "version": 3
   },
   "file_extension": ".py",
   "mimetype": "text/x-python",
   "name": "python",
   "nbconvert_exporter": "python",
   "pygments_lexer": "ipython3",
   "version": "3.11.5"
  }
 },
 "nbformat": 4,
 "nbformat_minor": 2
}
