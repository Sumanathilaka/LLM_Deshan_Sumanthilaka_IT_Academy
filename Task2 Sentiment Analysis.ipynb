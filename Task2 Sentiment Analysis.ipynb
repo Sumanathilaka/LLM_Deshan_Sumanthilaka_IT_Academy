{
 "cells": [
  {
   "cell_type": "code",
   "execution_count": 2,
   "metadata": {},
   "outputs": [],
   "source": [
    "import os, yaml\n",
    "from openai import OpenAI"
   ]
  },
  {
   "cell_type": "code",
   "execution_count": 3,
   "metadata": {},
   "outputs": [],
   "source": [
    "#setting the credentials required for OPEN AI/ TOGETHER\n",
    "with open(\"credential.yaml\", 'r') as file:\n",
    "    credentials= yaml.load(file, Loader=yaml.FullLoader)\n",
    "\n",
    "os.environ['OPENAI_API_KEY']= credentials['OPENAI_API_KEY']"
   ]
  },
  {
   "cell_type": "code",
   "execution_count": 4,
   "metadata": {},
   "outputs": [],
   "source": [
    "#Building client \n",
    "client= OpenAI() "
   ]
  },
  {
   "cell_type": "code",
   "execution_count": 5,
   "metadata": {},
   "outputs": [],
   "source": [
    "# Generating responses based on the user messages\n",
    "def complete_response(prompt):\n",
    "    response= client.chat.completions.create(        \n",
    "        model='gpt-3.5-turbo',\n",
    "        messages= [{\"role\": \"system\",\"content\" : \"You are a helpful assistant to generate responses on the given prompt.\"},\n",
    "                   {\"role\": \"user\", \"content\": prompt}\n",
    "                   ],\n",
    "        temperature=0.5,\n",
    "        max_tokens=500\n",
    "    )\n",
    "    return str(response.choices[0].message.content)   "
   ]
  },
  {
   "cell_type": "markdown",
   "metadata": {},
   "source": [
    "# Sentiment Analysis"
   ]
  },
  {
   "cell_type": "code",
   "execution_count": 1,
   "metadata": {},
   "outputs": [],
   "source": [
    "review='''Wow! Just tried Tandoori Chicken for the first time and it exceeded all my expectations! \n",
    "🎉 Not only was the flavor incredibly delicious, but the quality of the ingredients truly shines through. \n",
    "Every bite was a burst of joy!\n",
    "😋 Can't wait to stock up on more and share this delightful treat with friends and family. \n",
    "Thank you for creating such a wonderful product that brings so much happiness to my taste buds!'''"
   ]
  },
  {
   "cell_type": "code",
   "execution_count": 8,
   "metadata": {},
   "outputs": [],
   "source": [
    "prompt=f''' what is the sentiment of the following review ? \n",
    "Give your answer as \"Positive\" or \"Negative\"\n",
    "\n",
    "Review : {review}'''"
   ]
  },
  {
   "cell_type": "code",
   "execution_count": 9,
   "metadata": {},
   "outputs": [
    {
     "name": "stdout",
     "output_type": "stream",
     "text": [
      "Sentiment: Positive\n"
     ]
    }
   ],
   "source": [
    "print(complete_response(prompt))"
   ]
  },
  {
   "cell_type": "markdown",
   "metadata": {},
   "source": [
    "# Emotional Analysis"
   ]
  },
  {
   "cell_type": "code",
   "execution_count": 12,
   "metadata": {},
   "outputs": [],
   "source": [
    "prompt=f''' what is the emotion in the below review. \n",
    "You can return whether the emotion is \"Happy\", \"Sad\", \"Angry\" or \"Fearful\"?\n",
    "give the reasons for the selection in point format\n",
    "Review : {review}\n",
    "\n",
    "'''"
   ]
  },
  {
   "cell_type": "code",
   "execution_count": 13,
   "metadata": {},
   "outputs": [
    {
     "name": "stdout",
     "output_type": "stream",
     "text": [
      "The emotion in the review is \"Happy.\"\n",
      "\n",
      "Reasons for the selection:\n",
      "1. The use of positive language such as \"Wow,\" \"exceeded all my expectations,\" \"incredibly delicious,\" \"burst of joy,\" and \"delightful treat\" indicates a positive and joyful experience.\n",
      "2. The mention of sharing the product with friends and family suggests a sense of happiness and anticipation.\n",
      "3. The overall tone of the review is one of excitement and satisfaction, which aligns with the emotion of happiness.\n"
     ]
    }
   ],
   "source": [
    "print(complete_response(prompt))"
   ]
  }
 ],
 "metadata": {
  "kernelspec": {
   "display_name": "llm",
   "language": "python",
   "name": "python3"
  },
  "language_info": {
   "codemirror_mode": {
    "name": "ipython",
    "version": 3
   },
   "file_extension": ".py",
   "mimetype": "text/x-python",
   "name": "python",
   "nbconvert_exporter": "python",
   "pygments_lexer": "ipython3",
   "version": "3.11.5"
  }
 },
 "nbformat": 4,
 "nbformat_minor": 2
}
