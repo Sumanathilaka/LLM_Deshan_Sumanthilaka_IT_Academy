{
 "cells": [
  {
   "cell_type": "code",
   "execution_count": null,
   "metadata": {},
   "outputs": [],
   "source": [
    "#!pip install yaml\n",
    "#!pip install openai"
   ]
  },
  {
   "cell_type": "code",
   "execution_count": 6,
   "metadata": {},
   "outputs": [],
   "source": [
    "import os, yaml\n",
    "from openai import OpenAI"
   ]
  },
  {
   "cell_type": "code",
   "execution_count": 5,
   "metadata": {},
   "outputs": [],
   "source": [
    "#setting the credentials required for OPEN AI/ TOGETHER\n",
    "with open(\"credential.yaml\", 'r') as file:\n",
    "    credentials= yaml.load(file, Loader=yaml.FullLoader)\n",
    "\n",
    "os.environ['OPENAI_API_KEY']= credentials['OPENAI_API_KEY']\n",
    "os.environ['TOGETHER_API_KEY']= credentials['TOGETHER_API_KEY']"
   ]
  },
  {
   "cell_type": "code",
   "execution_count": 7,
   "metadata": {},
   "outputs": [],
   "source": [
    "#Building client \n",
    "client= OpenAI() \n"
   ]
  },
  {
   "cell_type": "code",
   "execution_count": 12,
   "metadata": {},
   "outputs": [],
   "source": [
    "# Generating responses based on the user messages\n",
    "def complete_response(prompt):\n",
    "    response= client.chat.completions.create(        \n",
    "        model='gpt-3.5-turbo',\n",
    "        messages= [{\"role\": \"system\",\"content\" : \"You are a helpful assistant to generate responses on the given prompt.\"},\n",
    "                   {\"role\": \"user\", \"content\": prompt}\n",
    "                   ],\n",
    "        temperature=0.5,\n",
    "        max_tokens=500\n",
    "    )\n",
    "    return str(response.choices[0].message.content)    \n",
    "\n",
    "\n",
    "#model : The model  which we need to call inorder to generate the response\n",
    "#Message : System role \n",
    "#temperature : Creativity of the response\n",
    "#max_tokens : Length of the response (Output token length)"
   ]
  },
  {
   "cell_type": "code",
   "execution_count": 15,
   "metadata": {},
   "outputs": [],
   "source": [
    "output=complete_response(\"what is the emotion of the below sentence: I am happy to see my parents\")"
   ]
  },
  {
   "cell_type": "code",
   "execution_count": 16,
   "metadata": {},
   "outputs": [
    {
     "name": "stdout",
     "output_type": "stream",
     "text": [
      "The emotion conveyed in the sentence \"I am happy to see my parents\" is joy or happiness.\n"
     ]
    }
   ],
   "source": [
    "print(output)"
   ]
  }
 ],
 "metadata": {
  "kernelspec": {
   "display_name": "llm",
   "language": "python",
   "name": "python3"
  },
  "language_info": {
   "codemirror_mode": {
    "name": "ipython",
    "version": 3
   },
   "file_extension": ".py",
   "mimetype": "text/x-python",
   "name": "python",
   "nbconvert_exporter": "python",
   "pygments_lexer": "ipython3",
   "version": "3.11.5"
  }
 },
 "nbformat": 4,
 "nbformat_minor": 2
}
