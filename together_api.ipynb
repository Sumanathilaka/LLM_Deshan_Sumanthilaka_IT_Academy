{
 "cells": [
  {
   "cell_type": "code",
   "execution_count": null,
   "metadata": {},
   "outputs": [],
   "source": [
    "#!pip install together"
   ]
  },
  {
   "cell_type": "code",
   "execution_count": 9,
   "metadata": {},
   "outputs": [],
   "source": [
    "import os, yaml\n",
    "import together\n"
   ]
  },
  {
   "cell_type": "code",
   "execution_count": 10,
   "metadata": {},
   "outputs": [],
   "source": [
    "#setting the credentials required for OPEN AI/ TOGETHER\n",
    "with open(\"credential.yaml\", 'r') as file:\n",
    "    credentials= yaml.load(file, Loader=yaml.FullLoader)\n",
    "\n",
    "os.environ['OPENAI_API_KEY']= credentials['OPENAI_API_KEY']\n",
    "together.api_key = os.environ[\"TOGETHER_API_KEY\"]"
   ]
  },
  {
   "cell_type": "code",
   "execution_count": 12,
   "metadata": {},
   "outputs": [
    {
     "name": "stdout",
     "output_type": "stream",
     "text": [
      "Austism/chronos-hermes-13b\n",
      "BAAI/bge-base-en-v1.5\n",
      "BAAI/bge-large-en-v1.5\n",
      "Gryphe/MythoMax-L2-13b\n",
      "Meta-Llama/Llama-Guard-7b\n",
      "Nexusflow/NexusRaven-V2-13B\n",
      "NousResearch/Nous-Capybara-7B-V1p9\n",
      "NousResearch/Nous-Hermes-2-Mistral-7B-DPO\n",
      "NousResearch/Nous-Hermes-2-Mixtral-8x7B-DPO\n",
      "NousResearch/Nous-Hermes-2-Mixtral-8x7B-SFT\n",
      "NousResearch/Nous-Hermes-2-Yi-34B\n",
      "NousResearch/Nous-Hermes-Llama2-13b\n",
      "NousResearch/Nous-Hermes-llama-2-7b\n",
      "Open-Orca/Mistral-7B-OpenOrca\n",
      "Phind/Phind-CodeLlama-34B-v2\n",
      "Qwen/Qwen1.5-0.5B-Chat\n",
      "Qwen/Qwen1.5-0.5B\n",
      "Qwen/Qwen1.5-1.8B-Chat\n",
      "Qwen/Qwen1.5-1.8B\n",
      "Qwen/Qwen1.5-14B-Chat\n",
      "Qwen/Qwen1.5-14B\n",
      "Qwen/Qwen1.5-4B-Chat\n",
      "Qwen/Qwen1.5-4B\n",
      "Qwen/Qwen1.5-72B-Chat\n",
      "Qwen/Qwen1.5-72B\n",
      "Qwen/Qwen1.5-7B-Chat\n",
      "Qwen/Qwen1.5-7B\n",
      "SG161222/Realistic_Vision_V3.0_VAE\n",
      "Undi95/ReMM-SLERP-L2-13B\n",
      "Undi95/Toppy-M-7B\n",
      "WhereIsAI/UAE-Large-V1\n",
      "WizardLM/WizardCoder-15B-V1.0\n",
      "WizardLM/WizardCoder-Python-34B-V1.0\n",
      "WizardLM/WizardLM-13B-V1.2\n",
      "allenai/OLMo-7B-Instruct\n",
      "allenai/OLMo-7B-Twin-2T\n",
      "allenai/OLMo-7B\n",
      "bert-base-uncased\n",
      "codellama/CodeLlama-13b-Instruct-hf\n",
      "codellama/CodeLlama-13b-Python-hf\n",
      "codellama/CodeLlama-34b-Instruct-hf\n",
      "codellama/CodeLlama-34b-Python-hf\n",
      "codellama/CodeLlama-70b-Instruct-hf\n",
      "codellama/CodeLlama-70b-Python-hf\n",
      "codellama/CodeLlama-70b-hf\n",
      "codellama/CodeLlama-7b-Instruct-hf\n",
      "codellama/CodeLlama-7b-Python-hf\n",
      "deepseek-ai/deepseek-coder-33b-instruct\n",
      "garage-bAInd/Platypus2-70B-instruct\n",
      "google/gemma-2b-it\n",
      "google/gemma-2b\n",
      "google/gemma-7b-it\n",
      "google/gemma-7b\n",
      "lmsys/vicuna-13b-v1.5\n",
      "lmsys/vicuna-7b-v1.5\n",
      "meta-llama/Llama-2-13b-chat-hf\n",
      "meta-llama/Llama-2-13b-hf\n",
      "meta-llama/Llama-2-70b-chat-hf\n",
      "meta-llama/Llama-2-70b-hf\n",
      "meta-llama/Llama-2-7b-chat-hf\n",
      "meta-llama/Llama-2-7b-hf\n",
      "microsoft/phi-2\n",
      "mistralai/Mistral-7B-Instruct-v0.1\n",
      "mistralai/Mistral-7B-Instruct-v0.2\n",
      "mistralai/Mistral-7B-v0.1\n",
      "mistralai/Mixtral-8x7B-Instruct-v0.1\n",
      "mistralai/Mixtral-8x7B-v0.1\n",
      "openchat/openchat-3.5-1210\n",
      "prompthero/openjourney\n",
      "runwayml/stable-diffusion-v1-5\n",
      "sentence-transformers/msmarco-bert-base-dot-v5\n",
      "snorkelai/Snorkel-Mistral-PairRM-DPO\n",
      "stabilityai/stable-diffusion-2-1\n",
      "stabilityai/stable-diffusion-xl-base-1.0\n",
      "teknium/OpenHermes-2-Mistral-7B\n",
      "teknium/OpenHermes-2p5-Mistral-7B\n",
      "togethercomputer/GPT-JT-Moderation-6B\n",
      "togethercomputer/LLaMA-2-7B-32K\n",
      "togethercomputer/Llama-2-7B-32K-Instruct\n",
      "togethercomputer/RedPajama-INCITE-7B-Base\n",
      "togethercomputer/RedPajama-INCITE-7B-Chat\n",
      "togethercomputer/RedPajama-INCITE-7B-Instruct\n",
      "togethercomputer/RedPajama-INCITE-Base-3B-v1\n",
      "togethercomputer/RedPajama-INCITE-Chat-3B-v1\n",
      "togethercomputer/RedPajama-INCITE-Instruct-3B-v1\n",
      "togethercomputer/StripedHyena-Hessian-7B\n",
      "togethercomputer/StripedHyena-Nous-7B\n",
      "togethercomputer/alpaca-7b\n",
      "togethercomputer/evo-1-131k-base\n",
      "togethercomputer/m2-bert-80M-2k-retrieval\n",
      "togethercomputer/m2-bert-80M-32k-retrieval\n",
      "togethercomputer/m2-bert-80M-8k-retrieval\n",
      "upstage/SOLAR-10.7B-Instruct-v1.0\n",
      "wavymulder/Analog-Diffusion\n",
      "zero-one-ai/Yi-34B-Chat\n",
      "zero-one-ai/Yi-34B\n",
      "zero-one-ai/Yi-6B\n",
      "togethercomputer/evo-1-8k-base\n",
      "EleutherAI/pythia-1b-v0\n",
      "replit/replit-code-v1-3b\n",
      "togethercomputer/Pythia-Chat-Base-7B-v0.16\n",
      "mosaicml/mpt-7b\n",
      "togethercomputer/mpt-30b-chat\n",
      "google/flan-t5-xl\n",
      "NumbersStation/nsql-6B\n",
      "togethercomputer/Koala-7B\n",
      "EleutherAI/pythia-6.9b\n",
      "databricks/dolly-v2-12b\n",
      "databricks/dolly-v2-3b\n",
      "EleutherAI/gpt-neox-20b\n",
      "EleutherAI/pythia-2.8b-v0\n",
      "NousResearch/Nous-Hermes-13b\n",
      "togethercomputer/guanaco-65b\n",
      "togethercomputer/llama-2-7b\n",
      "lmsys/fastchat-t5-3b-v1.0\n",
      "huggyllama/llama-7b\n",
      "OpenAssistant/stablelm-7b-sft-v7-epoch-3\n",
      "EleutherAI/pythia-12b-v0\n",
      "togethercomputer/mpt-7b-chat\n",
      "EleutherAI/gpt-j-6b\n",
      "OpenAssistant/oasst-sft-4-pythia-12b-epoch-3.5\n",
      "lmsys/vicuna-7b-v1.3\n",
      "Phind/Phind-CodeLlama-34B-Python-v1\n",
      "NumbersStation/nsql-llama-2-7B\n",
      "NousResearch/Nous-Hermes-Llama2-70b\n",
      "WizardLM/WizardLM-70B-V1.0\n",
      "huggyllama/llama-65b\n",
      "lmsys/vicuna-13b-v1.5-16k\n",
      "togethercomputer/GPT-NeoXT-Chat-Base-20B\n",
      "HuggingFaceH4/zephyr-7b-beta\n",
      "codellama/CodeLlama-34b-hf\n",
      "togethercomputer/CodeLlama-7b-Instruct\n",
      "togethercomputer/guanaco-13b\n",
      "togethercomputer/CodeLlama-34b-Python\n",
      "mosaicml/mpt-7b-instruct\n",
      "togethercomputer/llama-2-70b-chat\n",
      "togethercomputer/CodeLlama-34b-Instruct\n",
      "togethercomputer/CodeLlama-34b\n",
      "togethercomputer/CodeLlama-13b-Python\n",
      "Salesforce/codegen2-16B\n",
      "Salesforce/codegen2-7B\n",
      "google/flan-t5-xxl\n",
      "togethercomputer/llama-2-70b\n",
      "codellama/CodeLlama-7b-hf\n",
      "codellama/CodeLlama-13b-hf\n",
      "togethercomputer/CodeLlama-13b-Instruct\n",
      "togethercomputer/llama-2-13b-chat\n",
      "togethercomputer/llama-2-13b\n",
      "lmsys/vicuna-13b-v1.3\n",
      "huggyllama/llama-13b\n",
      "HuggingFaceH4/starchat-alpha\n",
      "huggyllama/llama-30b\n",
      "stabilityai/stablelm-base-alpha-3b\n",
      "stabilityai/stablelm-base-alpha-7b\n",
      "togethercomputer/CodeLlama-7b-Python\n",
      "defog/sqlcoder\n",
      "bigcode/starcoder\n",
      "databricks/dolly-v2-7b\n",
      "togethercomputer/guanaco-33b\n",
      "togethercomputer/Koala-13B\n",
      "togethercomputer/GPT-JT-6B-v1\n",
      "togethercomputer/llama-2-7b-chat\n",
      "togethercomputer/guanaco-7b\n",
      "EleutherAI/llemma_7b\n"
     ]
    }
   ],
   "source": [
    "#list of available models\n",
    "models= together.Models.list()\n",
    "#print(models)\n",
    "for i in models:\n",
    "    print(i['name'])\n"
   ]
  },
  {
   "cell_type": "code",
   "execution_count": 30,
   "metadata": {},
   "outputs": [],
   "source": [
    "# def complete_model_together(prompt):\n",
    "#     response=together.Complete.create(\n",
    "#         prompt,\n",
    "#         model=\"togethercomputer/llama-2-70b-chat\",\n",
    "#         max_tokens=1000,\n",
    "#         temperature=0 \n",
    "        \n",
    "#     )\n",
    "#     text=response['output']['choices'][0]['text'].replace('\\n', '   ').strip()\n",
    "#     return text   \n"
   ]
  },
  {
   "cell_type": "code",
   "execution_count": 35,
   "metadata": {},
   "outputs": [],
   "source": [
    "# #response will be generated using gemma 7b model\n",
    "# def complete_model_together(prompt):\n",
    "#     response=together.Complete.create(\n",
    "#         prompt,\n",
    "#         model=\"google/gemma-7b\",\n",
    "#         max_tokens=1000,\n",
    "#         temperature=0.5\n",
    "        \n",
    "#     )\n",
    "#     text=response['output']['choices'][0]['text'].replace('\\n', '   ').strip()\n",
    "#     return text "
   ]
  },
  {
   "cell_type": "code",
   "execution_count": 44,
   "metadata": {},
   "outputs": [],
   "source": [
    "#response will be generated using gemma 7b model\n",
    "def complete_model_together(prompt):\n",
    "    response=together.Complete.create(\n",
    "        prompt,\n",
    "        model=\"mistralai/Mixtral-8x7B-Instruct-v0.1\",\n",
    "        max_tokens=1000,\n",
    "        temperature=0.5\n",
    "        \n",
    "    )\n",
    "    text=response['output']['choices'][0]['text'].replace('\\n', '   ').strip()\n",
    "    return text "
   ]
  },
  {
   "cell_type": "code",
   "execution_count": 31,
   "metadata": {},
   "outputs": [
    {
     "name": "stdout",
     "output_type": "stream",
     "text": [
      "A dictionary is a book or digital collection of words, phrases, and their meanings, arranged in an alphabetical order. It is a reference tool used to find the meanings, pronunciation, and usage of words in a specific language. Dictionaries can also provide information on grammar, syntax, and usage conventions, as well as specialized vocabulary in fields such as law, medicine, or technology.      In addition to defining words, dictionaries may also include:      1. Etymology: The origin and history of words.   2. Pronunciation: The way words are pronounced.   3. Parts of speech: The grammatical categories of words, such as noun, verb, adjective, etc.   4. Synonyms: Words with similar meanings.   5. Antonyms: Words with opposite meanings.   6. Usage examples: Examples of how words are used in context.   7. Specialized vocabulary: Terms specific to a particular field or subject.      Dictionaries can be monolingual, bilingual, or multilingual, and they can be tailored to different levels of proficiency, such as beginner, intermediate, or advanced. They can also be specialized in a particular field, such as legal, medical, or technical dictionaries.      In the digital age, dictionaries have become more accessible and convenient, with online dictionaries and mobile apps that allow users to look up words and definitions quickly and easily.\n"
     ]
    }
   ],
   "source": [
    "print(complete_model_together(\"What is the meaning of a dictionary?\"))"
   ]
  },
  {
   "cell_type": "code",
   "execution_count": 45,
   "metadata": {},
   "outputs": [],
   "source": [
    "output= complete_model_together(\"what is the usage of dictionaries in python\")"
   ]
  },
  {
   "cell_type": "code",
   "execution_count": 47,
   "metadata": {},
   "outputs": [],
   "source": [
    "output= complete_model_together(\"write a essay on mahathma Gandhi\")"
   ]
  },
  {
   "cell_type": "code",
   "execution_count": 48,
   "metadata": {},
   "outputs": [
    {
     "name": "stdout",
     "output_type": "stream",
     "text": [
      "('in English.      Mahatma Gandhi was a great leader and a great man. He was '\n",
      " 'born in Porbandar, Gujarat on October 2, 1869. His father was the Diwan of '\n",
      " 'Porbandar and his mother was a deeply religious woman. Gandhiji was a very '\n",
      " 'obedient and truthful child. He was married at the age of 13 to '\n",
      " 'Kasturba.      Gandhiji went to England to study law. After completing his '\n",
      " 'studies, he returned to India and started practicing law in Bombay. But he '\n",
      " 'was not successful as a lawyer. He then went to South Africa to practice '\n",
      " 'law. There he faced racial discrimination. He fought against this '\n",
      " 'discrimination and won the case. This experience made him a great '\n",
      " 'leader.      Gandhiji returned to India in 1915. He joined the Indian '\n",
      " 'National Congress and started the non-cooperation movement. He asked the '\n",
      " 'people to boycott British goods and institutions. He also started the Civil '\n",
      " 'Disobedience Movement. He asked the people to break the unjust laws of the '\n",
      " 'British government.      Gandhiji was a great believer in non-violence. He '\n",
      " 'believed that the power of truth was greater than the power of violence. He '\n",
      " 'led the people in the freedom struggle by his example of non-violence. He '\n",
      " 'was arrested many times by the British government. But he never lost his '\n",
      " \"spirit. He continued to fight for India's freedom.      Gandhiji was \"\n",
      " 'assassinated on January 30, 1948. But his legacy lives on. He is remembered '\n",
      " 'as the Father of the Nation. His birthday is celebrated as a national '\n",
      " 'holiday in India.      In conclusion, Mahatma Gandhi was a great leader and '\n",
      " 'a great man. He led the people in the freedom struggle by his example of '\n",
      " 'non-violence. He is remembered as the Father of the Nation. His birthday is '\n",
      " 'celebrated as a national holiday in India.')\n"
     ]
    }
   ],
   "source": [
    "import pprint\n",
    "\n",
    "pprint.pprint(output)"
   ]
  }
 ],
 "metadata": {
  "kernelspec": {
   "display_name": "llm",
   "language": "python",
   "name": "python3"
  },
  "language_info": {
   "codemirror_mode": {
    "name": "ipython",
    "version": 3
   },
   "file_extension": ".py",
   "mimetype": "text/x-python",
   "name": "python",
   "nbconvert_exporter": "python",
   "pygments_lexer": "ipython3",
   "version": "3.11.5"
  }
 },
 "nbformat": 4,
 "nbformat_minor": 2
}
