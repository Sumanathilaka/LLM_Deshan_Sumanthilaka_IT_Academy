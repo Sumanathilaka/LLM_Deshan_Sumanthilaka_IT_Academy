{
 "cells": [
  {
   "cell_type": "code",
   "execution_count": 1,
   "metadata": {},
   "outputs": [],
   "source": [
    "import os, yaml\n",
    "from openai import OpenAI"
   ]
  },
  {
   "cell_type": "code",
   "execution_count": 2,
   "metadata": {},
   "outputs": [],
   "source": [
    "#setting the credentials required for OPEN AI/ TOGETHER\n",
    "with open(\"credential.yaml\", 'r') as file:\n",
    "    credentials= yaml.load(file, Loader=yaml.FullLoader)\n",
    "\n",
    "os.environ['OPENAI_API_KEY']= credentials['OPENAI_API_KEY']"
   ]
  },
  {
   "cell_type": "code",
   "execution_count": 3,
   "metadata": {},
   "outputs": [],
   "source": [
    "#Building client \n",
    "client= OpenAI() "
   ]
  },
  {
   "cell_type": "code",
   "execution_count": 17,
   "metadata": {},
   "outputs": [],
   "source": [
    "# Generating responses based on the user messages\n",
    "def complete_response(prompt):\n",
    "    response= client.chat.completions.create(        \n",
    "        model='gpt-3.5-turbo',\n",
    "        messages= [{\"role\": \"system\",\"content\" : \"You are a helpful assistant to generate responses on the given prompt.\"},\n",
    "                   {\"role\": \"user\", \"content\": prompt}\n",
    "                   ],\n",
    "        temperature=0,\n",
    "        max_tokens=1000\n",
    "    )\n",
    "    return str(response.choices[0].message.content)   "
   ]
  },
  {
   "cell_type": "markdown",
   "metadata": {},
   "source": [
    "# Document Basd Prompting"
   ]
  },
  {
   "cell_type": "code",
   "execution_count": null,
   "metadata": {},
   "outputs": [],
   "source": [
    "#Pdf Reading \n",
    "#pypdf2 / pdfplumber / Ppymupdf"
   ]
  },
  {
   "cell_type": "code",
   "execution_count": null,
   "metadata": {},
   "outputs": [],
   "source": [
    "#!pip install PyPDF2\n"
   ]
  },
  {
   "cell_type": "code",
   "execution_count": 18,
   "metadata": {},
   "outputs": [],
   "source": [
    "from PyPDF2 import PdfReader"
   ]
  },
  {
   "cell_type": "code",
   "execution_count": 23,
   "metadata": {},
   "outputs": [],
   "source": [
    "def get_pdf_text(file_path):\n",
    "    text=\"\" #Content maintain\n",
    "    with open(file_path, 'rb') as file:\n",
    "        pdf_reader = PdfReader(file)\n",
    "        for page_num in range(len(pdf_reader.pages)):\n",
    "            page=pdf_reader.pages[page_num]\n",
    "            ptext=page.extract_text() #text variable (String) + appeding the content \n",
    "            text+=ptext.replace(\"\\n\", \" \")\n",
    "    return text"
   ]
  },
  {
   "cell_type": "code",
   "execution_count": 24,
   "metadata": {},
   "outputs": [],
   "source": [
    "doc_text= get_pdf_text(\"wsd.pdf\")"
   ]
  },
  {
   "cell_type": "code",
   "execution_count": 26,
   "metadata": {},
   "outputs": [
    {
     "name": "stdout",
     "output_type": "stream",
     "text": [
      "('WSD Ambiguity in natural language poses a significant challenge for various '\n",
      " 'Natural Language Processing (NLP) tasks, with Word Sense Disambiguation '\n",
      " '(WSD) being a fundamental problem. WSD involves determining the correct '\n",
      " 'meaning of ambiguous words within a given context, which is important for '\n",
      " 'applications like machine translation, sentiment analysis, and information '\n",
      " 'retrieval. Supervised Word Sense Disambiguation (WSD) Supervised approaches '\n",
      " 'to WSD utilize labelled datasets to train models for sense disambiguation. '\n",
      " 'Various techniques have been proposed to enhance the accuracy of supervised '\n",
      " 'WSD systems. For instance, the use of stacked bidirectional Long Short-Term '\n",
      " 'Memory (LSTM) neural networks coupled with attention mechanisms has been '\n",
      " 'explored. This approach employs deep embedding-based representations of '\n",
      " 'sentences containing ambiguous words, followed by self-attention mechanisms '\n",
      " 'to highlight contextual features and construct overall semantic '\n",
      " 'representations of sentences. Data augmentation techniques like '\n",
      " 'Sense-Maintained Sentence Mixup (SMSMix) have also been introduced to '\n",
      " 'increase the frequency of least frequent senses (LFS) and reduce '\n",
      " 'distributional bias during training. Supervised WSD involves training models '\n",
      " 'on labelled datasets to disambiguate word senses. Metrics play a crucial '\n",
      " 'role in evaluating the performance of WSD tools. This includes the '\n",
      " 'application of metrics like Normalized Discounted Cumulative Gain (NDCG) and '\n",
      " 'Mean Average Precision (MAP) to assess the effectiveness of '\n",
      " 'context-dependent algorithms such as QEWTSS and QEGBCPR. However, it is '\n",
      " 'essential to recognize that ambiguity in language extends beyond document '\n",
      " 'defects. The ambiguity stems from multiple linguistic sources, including '\n",
      " 'lexical and syntactic ambiguities in narrative texts. Approaches like '\n",
      " 'Sense-Maintained Sentence Mixup (SMSMix) propose innovative methods to '\n",
      " 'address these challenges by blending sentences while preserving the sense of '\n",
      " 'target words. Additionally, recent efforts in WSD research highlight the '\n",
      " 'importance of leveraging deep learning models, such as BiLSTM, which have '\n",
      " 'shown promising results in detecting lexical ambiguities, particularly in '\n",
      " 'low-resource languages. Existing research offers an extensive review of '\n",
      " 'various disambiguation tools, highlighting their strengths and weaknesses. '\n",
      " 'Evaluation benchmarks such as Normalized Discounted Cumulative Gain (NDCG) '\n",
      " 'and Mean Average Precision (MAP) metrics are utilized to compare the '\n",
      " 'performance of context-dependent algorithms like QEWTSS and QEGBCPR. '\n",
      " 'Additionally, studies explore the effectiveness of semi-supervised WSD using '\n",
      " 'graph-based SSL algorithms and various word embeddings combined with '\n",
      " 'parts-of-speech tags and word context. Furthermore, developing a new '\n",
      " 'multi-domain evaluation benchmark underscores the need for robust evaluation '\n",
      " 'methods in WSD research. Supervised methods, such as a novel knowledge-based '\n",
      " 'technique tailored for Persian WSD, have been proposed. This method '\n",
      " 'leverages a pre-trained LDA model to assign ambiguous content words to '\n",
      " 'topics. It computes similarity with FarsNet glosses, ultimately selecting '\n",
      " 'the sense with the highest score as the most probable one. Additionally, '\n",
      " 'Enhanced WSD Integrating Synset Embeddings and Relations (EWISER) introduces '\n",
      " 'a neural supervised architecture that integrates information from the LKB '\n",
      " 'graph and pre-trained synset embeddings, enhancing prediction capabilities '\n",
      " 'even for synsets not in the training set. Knowledge-Based Word Sense '\n",
      " 'Disambiguation (WSD) Knowledge-based approaches to WSD leverage external '\n",
      " 'resources such as lexical databases and ontologies to disambiguate word '\n",
      " 'senses. These methods often rely on semantic similarity measures and '\n",
      " 'graph-based algorithms. For example, an unsupervised graph-based algorithm '\n",
      " 'for Hindi WSD utilizes Hindi WordNet to create weighted graphs representing '\n",
      " 'word senses and their relations. Moreover, bootstrapping techniques '\n",
      " 'incorporating WordNet synsets have been developed to improve the accuracy of '\n",
      " 'WSD systems, demonstrating the effectiveness of integrating linguistic '\n",
      " 'knowledge into the disambiguation process. Knowledge-based approaches to WSD '\n",
      " 'leverage external resources such as semantic networks and ontologies to '\n",
      " 'disambiguate word senses. These approachespropose novel techniques for '\n",
      " 'identifying and resolving ambiguity using semantic information. For '\n",
      " 'instance, an adaptive sentence semantic similarity-based complex network '\n",
      " 'approach represents ambiguous sentences as vertices and constructs a '\n",
      " 'weighted complex network based on semantic similarities. This network is '\n",
      " 'then utilized to resolve ambiguity, particularly in sentences lacking '\n",
      " 'context information. Furthermore, evaluation benchmarks like iBiMT '\n",
      " 'facilitate extensive studies on semantic biases in machine translation '\n",
      " 'across different language combinations, providing insights into the '\n",
      " 'challenges of cross-lingual WSD. Quantitative and qualitative analysis of '\n",
      " 'the celebrated BERT model is conducted, particularly concerning lexical '\n",
      " \"ambiguity. Studies delve into the model's ability to disambiguate words \"\n",
      " 'within context, highlighting its strengths and limitations. Additionally, '\n",
      " 'research explores the incorporation of synonyms, example phrases, and sense '\n",
      " 'glosses of hypernyms to enhance sense representations, aiming to improve the '\n",
      " \"model's performance in addressing lexical ambiguity. Knowledge-based \"\n",
      " 'strategies further expand the WSD toolkit, as exemplified by the Synset '\n",
      " 'Relation-Enhanced Framework (SREF). This framework augments basic sense '\n",
      " 'embeddings from WordNet glosses with sense relations and implements a '\n",
      " 'try-again mechanism to refine disambiguation results. Word Sense '\n",
      " 'Disambiguation for Other Languages Extending WSD techniques to languages '\n",
      " 'other than English presents unique challenges and opportunities. Researchers '\n",
      " 'have proposed models tailored to specific languages, such as an Amharic WSD '\n",
      " 'model employing transformer-based contextual embeddings. Additionally, '\n",
      " 'efforts have been made to generate datasets and resources for languages with '\n",
      " 'limited resources, such as a dataset for Ukrainian WSD based on the SUM '\n",
      " 'dictionary. Cross-lingual approaches have also been explored, with '\n",
      " 'investigations into cross-lingual word sense embedding and contextual '\n",
      " 'word-level translation. These approaches demonstrate the importance of '\n",
      " 'considering linguistic diversity in WSD research and the potential for '\n",
      " 'leveraging multilingual resources to address ambiguity in various languages. '\n",
      " 'Addressing WSD in languages with limited resources presents unique '\n",
      " 'challenges. Proposed approaches often leverage resources from high-resource '\n",
      " 'languages to improve performance. For example, a novel approach tackles WSD '\n",
      " 'for low-resource languages by utilizing a high-resource language as a '\n",
      " 'reference point. This cross-lingual approach demonstrates the potential for '\n",
      " 'leveraging linguistic resources and knowledge transfer to enhance WSD in '\n",
      " 'under-resourced linguistic contexts. Additionally, efforts in entity '\n",
      " 'disambiguation propose innovative formulations, such as ExtEnD, which frame '\n",
      " 'the task as a text extraction problem and utilize Transformer-based '\n",
      " 'architectures to improve disambiguation accuracy. These approaches highlight '\n",
      " 'the importance of considering linguistic diversity and resource availability '\n",
      " 'in WSD research. Approaches like Sin-Sense pioneer cross-lingual sense '\n",
      " 'disambiguation, leveraging another language to aid the process in the target '\n",
      " 'language, such as in Sinhala word sense disambiguation.')\n"
     ]
    }
   ],
   "source": [
    "import pprint\n",
    "\n",
    "pprint.pprint(doc_text)"
   ]
  },
  {
   "cell_type": "code",
   "execution_count": 29,
   "metadata": {},
   "outputs": [],
   "source": [
    "prompt = f''' Analyse the below content and answer to the question \n",
    " Question : Based on the conent, what is SMSMix?\n",
    " content:{doc_text}\n",
    "'''"
   ]
  },
  {
   "cell_type": "code",
   "execution_count": 30,
   "metadata": {},
   "outputs": [
    {
     "name": "stdout",
     "output_type": "stream",
     "text": [
      "Based on the content provided, SMSMix is a data augmentation technique introduced to increase the frequency of least frequent senses (LFS) and reduce distributional bias during training in the context of Supervised Word Sense Disambiguation (WSD). SMSMix involves blending sentences while preserving the sense of target words, aiming to address challenges related to ambiguity in language, particularly in narrative texts with lexical and syntactic ambiguities. This technique is part of the efforts to enhance the accuracy of supervised WSD systems by introducing innovative methods to improve the training process and ultimately the performance of word sense disambiguation models.\n"
     ]
    }
   ],
   "source": [
    "print(complete_response(prompt))"
   ]
  },
  {
   "cell_type": "markdown",
   "metadata": {},
   "source": [
    "- Token Count 4096 \n",
    "- Large document \n",
    "- pay --> token\n",
    "\n",
    "RAG "
   ]
  }
 ],
 "metadata": {
  "kernelspec": {
   "display_name": "llm",
   "language": "python",
   "name": "python3"
  },
  "language_info": {
   "codemirror_mode": {
    "name": "ipython",
    "version": 3
   },
   "file_extension": ".py",
   "mimetype": "text/x-python",
   "name": "python",
   "nbconvert_exporter": "python",
   "pygments_lexer": "ipython3",
   "version": "3.11.5"
  }
 },
 "nbformat": 4,
 "nbformat_minor": 2
}
